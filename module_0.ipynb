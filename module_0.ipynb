{
 "cells": [
  {
   "cell_type": "markdown",
   "metadata": {
    "scrolled": true
   },
   "source": [
    "## Skillactory Project №1\n",
    "  \n",
    "**Угадать загаданное компьютером число за минимальное число попыток.**\n",
    "\n",
    "Итак, компьютер загадывает целое число от **1** до **100**, и нам его нужно угадать.\n",
    "Под «угадать», конечно, подразумевается «написать программу, которая угадывает число»."
   ]
  },
  {
   "cell_type": "markdown",
   "metadata": {},
   "source": [
    "**Варинты решений Skillfactory**"
   ]
  },
  {
   "cell_type": "code",
   "execution_count": 1,
   "metadata": {},
   "outputs": [
    {
     "name": "stderr",
     "output_type": "stream",
     "text": [
      "C:\\Users\\FAMILY\\Anaconda3\\lib\\site-packages\\ipykernel\\parentpoller.py:116: UserWarning: Parent poll failed.  If the frontend dies,\n",
      "                the kernel may be left running.  Please let us know\n",
      "                about your system (bitness, Python, etc.) at\n",
      "                ipython-dev@scipy.org\n",
      "  ipython-dev@scipy.org\"\"\")\n"
     ]
    }
   ],
   "source": [
    "import numpy as np # импортируем библиотеку numpy "
   ]
  },
  {
   "cell_type": "code",
   "execution_count": 2,
   "metadata": {},
   "outputs": [],
   "source": [
    "def score_game(game_core):\n",
    "    '''Запускаем игру 1000 раз, чтобы узнать, как быстро игра угадывает число'''\n",
    "    \n",
    "    count_ls = []\n",
    "    np.random.seed(1)  # фиксируем RANDOM SEED, чтобы ваш эксперимент был воспроизводим!\n",
    "    random_array = np.random.randint(1,101, size=(1000))\n",
    "    for number in random_array:\n",
    "        count_ls.append(game_core(number))\n",
    "    score = int(np.mean(count_ls))\n",
    "    \n",
    "    print(f\"Ваш алгоритм угадывает число в среднем за {score} попыток\")\n",
    "    return(score)"
   ]
  },
  {
   "cell_type": "code",
   "execution_count": 3,
   "metadata": {},
   "outputs": [],
   "source": [
    "def game_core_v1(number):\n",
    "    '''Просто угадываем на random, никак не используя информацию о больше или меньше.\n",
    "       Функция принимает загаданное число и возвращает число попыток'''\n",
    "    count = 0\n",
    "    while True:\n",
    "        count+=1\n",
    "        predict = np.random.randint(1,101) # предполагаемое число\n",
    "        if number == predict: \n",
    "            return(count) # выход из цикла, если угадали"
   ]
  },
  {
   "cell_type": "code",
   "execution_count": 4,
   "metadata": {},
   "outputs": [
    {
     "name": "stdout",
     "output_type": "stream",
     "text": [
      "Ваш алгоритм угадывает число в среднем за 101 попыток\n"
     ]
    },
    {
     "data": {
      "text/plain": [
       "101"
      ]
     },
     "execution_count": 4,
     "metadata": {},
     "output_type": "execute_result"
    }
   ],
   "source": [
    "# Проверяем\n",
    "score_game(game_core_v1)"
   ]
  },
  {
   "cell_type": "code",
   "execution_count": 5,
   "metadata": {},
   "outputs": [],
   "source": [
    "def game_core_v2(number):\n",
    "    '''Сначала устанавливаем любое random число, а потом уменьшаем или увеличиваем его в зависимости от того, больше оно или меньше нужного.\n",
    "       Функция принимает загаданное число и возвращает число попыток'''\n",
    "    count = 1\n",
    "    predict = np.random.randint(1,101)\n",
    "    while number != predict:\n",
    "        count+=1\n",
    "        if number > predict: \n",
    "            predict += 1\n",
    "        elif number < predict: \n",
    "            predict -= 1\n",
    "    return(count) # выход из цикла, если угадали"
   ]
  },
  {
   "cell_type": "code",
   "execution_count": 6,
   "metadata": {
    "scrolled": true
   },
   "outputs": [
    {
     "name": "stdout",
     "output_type": "stream",
     "text": [
      "Ваш алгоритм угадывает число в среднем за 33 попыток\n"
     ]
    },
    {
     "data": {
      "text/plain": [
       "33"
      ]
     },
     "execution_count": 6,
     "metadata": {},
     "output_type": "execute_result"
    }
   ],
   "source": [
    "# Проверяем\n",
    "score_game(game_core_v2)"
   ]
  },
  {
   "cell_type": "markdown",
   "metadata": {},
   "source": [
    "**Мое решение №1**"
   ]
  },
  {
   "cell_type": "code",
   "execution_count": 7,
   "metadata": {},
   "outputs": [],
   "source": [
    "def game_core_v3(number):\n",
    "    \n",
    "    '''Создаем переменную \"count\" - счетчик, и две переменные \"low\" и \"high\" как нижний и верхний предел \"random.randit\".\n",
    "    Создем бесконечный цикл, в котором исользуем конструкцию \"try/exept\", которая озволяет основной код зпписать в try,\n",
    "    а при оявления исключения вывести на экануведомление об ошибки. В \"try\" ппомещаем наш random.randit \n",
    "    с верхним и нижним пределем в виде аргументов \"low\" \"high\". С помощью \"if/elif\" отрабатывем условия, \n",
    "    если \"загананное число\" больше \"отгадывемого\" изменяем присваеваем \"low\" значение \"отгадывемого\" - 1,\n",
    "    загананное число\" меньше \"отгадывемого\" изменяем присваеваем \"high\" значение \"отгадывемого\", \n",
    "    при угадывании числа нас с помощью \"break\" мы остнавливаем бесконечный цикл.''' \n",
    "\n",
    "    count = 0 # Счетчик. Подсчет количества попыток до отгадывания загаданного целого числа.\n",
    "    low = 0 # Начало дипазона функции random.randint\n",
    "    high = 101 # Конец дипазона функции random.randint\n",
    "\n",
    "    while True: # Бесконечный цикл\n",
    "        \n",
    "        try: # Основной код омещаем в try, чтобы ловить исключения в except\n",
    "            predict = np.random.randint(low, high) \n",
    "            count += 1 \n",
    "\n",
    "            if predict < number:\n",
    "                low = predict - 1 # уменьшаем диапзон подбора числа \n",
    "\n",
    "            elif predict > number:\n",
    "                high = predict # уменьшаем диапзон подбора числа \n",
    "\n",
    "            elif predict == number:\n",
    "                break \n",
    "        except: # Отработка исключений\n",
    "            print(\"Ошибка! Обртитесь в службу поддежки!\" )\n",
    "            \n",
    "    return count"
   ]
  },
  {
   "cell_type": "code",
   "execution_count": 8,
   "metadata": {
    "scrolled": true
   },
   "outputs": [
    {
     "name": "stdout",
     "output_type": "stream",
     "text": [
      "Ваш алгоритм угадывает число в среднем за 9 попыток\n"
     ]
    },
    {
     "data": {
      "text/plain": [
       "9"
      ]
     },
     "execution_count": 8,
     "metadata": {},
     "output_type": "execute_result"
    }
   ],
   "source": [
    "# Проверяем\n",
    "score_game(game_core_v3)"
   ]
  },
  {
   "cell_type": "markdown",
   "metadata": {},
   "source": [
    "**Мое решение №2**"
   ]
  },
  {
   "cell_type": "code",
   "execution_count": 9,
   "metadata": {},
   "outputs": [],
   "source": [
    "def game_core_v4(number):\n",
    "\n",
    "    '''Создаем переменную \"count\" - счетчик, и две переменные \"low\" и \"high\" как нижний и верхний предел \"random.randit\".\n",
    "    Создем бесконечный цикл, в котором исользуем конструкцию \"try/exept\", которая озволяет основной код зпписать в try,\n",
    "    а при оявления исключения вывести на экануведомление об ошибки. В \"try\" ппомещаем наш random.randit \n",
    "    с верхним и нижним пределем в виде аргументов \"low\" \"high\". С помощью \"if/elif\" отрабатывем условия, \n",
    "    если \"загананное число\" больше \"отгадывемого\" изменяем присваеваем \"low\" значение \"отгадывемого\" + 1,\n",
    "    загананное число\" меньше \"отгадывемого\" изменяем присваеваем \"high\" значение \"отгадывемого\",\n",
    "    при угадывании числа нас с помощью \"break\" мы остнавливаем бесконечный цикл.''' \n",
    "\n",
    "    count = 0 # Счетчик. Подсчет количества попыток до отгадывания загаданного целого числа.\n",
    "    low = 0 # Начало дипазона функции random.randint\n",
    "    high = 101 # Конец дипазона функции random.randint\n",
    "\n",
    "    while True: # Бесконечный цикл\n",
    "        \n",
    "        try: # Основной код омещаем в try, чтобы ловить исключения в except\n",
    "            predict = np.random.randint(low, high) \n",
    "            count += 1 \n",
    "\n",
    "            if predict < number:\n",
    "                low = predict + 1 # уменьшаем диапзон подбора числа \n",
    "\n",
    "            elif predict > number:\n",
    "                high = predict # уменьшаем диапзон подбора числа \n",
    "\n",
    "            elif predict == number:\n",
    "                break \n",
    "        except: # Отработка исключений\n",
    "            print(\"Ошибка! Обртитесь в службу поддежки!\" )\n",
    "            \n",
    "    return count"
   ]
  },
  {
   "cell_type": "code",
   "execution_count": 10,
   "metadata": {},
   "outputs": [
    {
     "name": "stdout",
     "output_type": "stream",
     "text": [
      "Ваш алгоритм угадывает число в среднем за 7 попыток\n"
     ]
    },
    {
     "data": {
      "text/plain": [
       "7"
      ]
     },
     "execution_count": 10,
     "metadata": {},
     "output_type": "execute_result"
    }
   ],
   "source": [
    "# Проверяем\n",
    "score_game(game_core_v4) "
   ]
  }
 ],
 "metadata": {
  "kernelspec": {
   "display_name": "Python 3",
   "language": "python",
   "name": "python3"
  },
  "language_info": {
   "codemirror_mode": {
    "name": "ipython",
    "version": 3
   },
   "file_extension": ".py",
   "mimetype": "text/x-python",
   "name": "python",
   "nbconvert_exporter": "python",
   "pygments_lexer": "ipython3",
   "version": "3.7.6"
  }
 },
 "nbformat": 4,
 "nbformat_minor": 4
}
